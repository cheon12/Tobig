{
  "cells": [
    {
      "cell_type": "markdown",
      "id": "9ad88f3e",
      "metadata": {
        "id": "9ad88f3e"
      },
      "source": [
        "# Multiclass SVM 구현"
      ]
    },
    {
      "cell_type": "code",
      "execution_count": 44,
      "id": "1ee53277",
      "metadata": {
        "colab": {
          "base_uri": "https://localhost:8080/"
        },
        "id": "1ee53277",
        "outputId": "4b1833b0-ba4a-4a87-d0d9-b21b1648656a"
      },
      "outputs": [
        {
          "output_type": "stream",
          "name": "stdout",
          "text": [
            "0         setosa\n",
            "1         setosa\n",
            "2         setosa\n",
            "3         setosa\n",
            "4         setosa\n",
            "         ...    \n",
            "145    virginica\n",
            "146    virginica\n",
            "147    virginica\n",
            "148    virginica\n",
            "149    virginica\n",
            "Name: species, Length: 150, dtype: object\n"
          ]
        }
      ],
      "source": [
        "import numpy as np\n",
        "import pandas as pd\n",
        "import matplotlib.pyplot as plt\n",
        "import seaborn as sns\n",
        "from sklearn.svm import SVC\n",
        "from sklearn.model_selection import train_test_split\n",
        "from sklearn.pipeline import Pipeline\n",
        "from sklearn.preprocessing import StandardScaler\n",
        "from sklearn.metrics import accuracy_score\n",
        "\n",
        "#IRIS 데이터 로드\n",
        "iris =  sns.load_dataset('iris') \n",
        "X= iris.iloc[:,:4] #학습할데이터\n",
        "y = iris.iloc[:,-1] #타겟\n",
        "print(y)"
      ]
    },
    {
      "cell_type": "code",
      "execution_count": 45,
      "id": "57c67bc8",
      "metadata": {
        "id": "57c67bc8"
      },
      "outputs": [],
      "source": [
        "X_train, X_test, y_train, y_test = train_test_split(X, y, test_size=0.2, random_state=48)"
      ]
    },
    {
      "cell_type": "code",
      "execution_count": 46,
      "id": "88a4203d",
      "metadata": {
        "id": "88a4203d"
      },
      "outputs": [],
      "source": [
        "def standardization(train, test):\n",
        "    scaler = StandardScaler()\n",
        "    train = scaler.fit_transform(train)\n",
        "    test = scaler.transform(test)\n",
        "    return train, test\n",
        "\n",
        "X_train, X_test = standardization(X_train, X_test)"
      ]
    },
    {
      "cell_type": "code",
      "source": [
        "X_test.shape"
      ],
      "metadata": {
        "colab": {
          "base_uri": "https://localhost:8080/"
        },
        "id": "vte9xPjVvD9s",
        "outputId": "4ff77789-11e8-446b-a7d7-151d87b6860f"
      },
      "id": "vte9xPjVvD9s",
      "execution_count": 47,
      "outputs": [
        {
          "output_type": "execute_result",
          "data": {
            "text/plain": [
              "(30, 4)"
            ]
          },
          "metadata": {},
          "execution_count": 47
        }
      ]
    },
    {
      "cell_type": "code",
      "source": [
        "class SVM_OVR:\n",
        "    def __init__(self, num_classes, kernel, C, gamma):\n",
        "      \n",
        "        self.num_classes = num_classes\n",
        "        self.clfs = [SVC(kernel = kernel, C = C, gamma = gamma) for _ in range(num_classes)]\n",
        "        self.classes = None\n",
        "\n",
        "         #clfs 리스트 생성 후 SVC를 필요한 갯수만큼 append해줍니다. OVR이기 때문에 class갯수만큼 해줍니다.\n",
        "        \n",
        "    def fit(self, X_train, y_train): #트레이닝하기 위한 메소드입니다.\n",
        "      \n",
        "        y_train = pd.get_dummies(y_train) #y_train을 원핫인코딩해줍니다.\n",
        "        for i in range(self.num_classes): #모든 class에 대하여 svc객체의 fit메소드를 이용해서 학습을 돌려줍니다.\n",
        "            self.clfs[i].fit(X_train,y_train.iloc[:,i]) \n",
        "        self.classes = y_train.columns\n",
        "\n",
        "    \n",
        "    def predict(self, X_test): #트레이닝 된 모델을 이용하여 테스트를 진행합니다.\n",
        "\n",
        "        y_pred = pd.DataFrame([svm.predict(X_test) for svm in self.clfs]) #각 모델에 대해 예측을 수행 \n",
        "        decisions = np.array([svm.decision_function(X_test) for svm in self.clfs]).T\n",
        "        print(y_pred) #투표를 통해 class를 결정할 수 없을때 사용\n",
        "        print(len(y_pred),type(y_pred))\n",
        "        \n",
        "        tmp= []\n",
        "        #정상적으로 분류할경우 \n",
        "        for i in range(len(y_pred.columns)):\n",
        "            if sum(y_pred.iloc[:,i]) == 1:\n",
        "                label = y_pred.iloc[:,i][y_pred.iloc[:,i] == 1].index[0]\n",
        "                tmp.append(self.classes[label])\n",
        "\n",
        "                print(tmp)\n",
        "\n",
        "        #동점이 나올경우 decision 메소드를 사용해서 판별\n",
        "            else:\n",
        "                label = np.argmax(decisions[i])\n",
        "                tmp.append(self.classes[label])\n",
        "        \n",
        "      \n",
        "        return tmp"
      ],
      "metadata": {
        "id": "IQrCPcrvX3Ix"
      },
      "id": "IQrCPcrvX3Ix",
      "execution_count": 96,
      "outputs": []
    },
    {
      "cell_type": "code",
      "execution_count": 100,
      "id": "11719030",
      "metadata": {
        "id": "11719030"
      },
      "outputs": [],
      "source": [
        "clf=SVM_OVR(num_classes=3,kernel='rbf',C=10,gamma=10)"
      ]
    },
    {
      "cell_type": "code",
      "source": [
        "clf.fit(X_train,y_train)"
      ],
      "metadata": {
        "id": "TXQ82r5sX3W8"
      },
      "id": "TXQ82r5sX3W8",
      "execution_count": 101,
      "outputs": []
    },
    {
      "cell_type": "code",
      "source": [
        "pred = clf.predict(X_test)"
      ],
      "metadata": {
        "colab": {
          "base_uri": "https://localhost:8080/"
        },
        "id": "ezryyH-AX3bW",
        "outputId": "c80c3c3b-508c-4274-b502-7460707d0651"
      },
      "id": "ezryyH-AX3bW",
      "execution_count": 102,
      "outputs": [
        {
          "output_type": "stream",
          "name": "stdout",
          "text": [
            "   0   1   2   3   4   5   6   7   8   9   ...  20  21  22  23  24  25  26  \\\n",
            "0   0   0   0   0   0   0   1   0   0   0  ...   1   0   0   0   0   1   1   \n",
            "1   1   1   0   0   0   0   0   0   0   1  ...   0   0   0   1   0   0   0   \n",
            "2   0   0   0   0   0   1   0   1   0   0  ...   0   1   0   0   1   0   0   \n",
            "\n",
            "   27  28  29  \n",
            "0   0   0   0  \n",
            "1   0   0   1  \n",
            "2   1   1   0  \n",
            "\n",
            "[3 rows x 30 columns]\n",
            "3 <class 'pandas.core.frame.DataFrame'>\n",
            "['versicolor']\n",
            "['versicolor', 'versicolor']\n",
            "['versicolor', 'versicolor', 'versicolor', 'virginica', 'virginica', 'virginica']\n",
            "['versicolor', 'versicolor', 'versicolor', 'virginica', 'virginica', 'virginica', 'setosa']\n",
            "['versicolor', 'versicolor', 'versicolor', 'virginica', 'virginica', 'virginica', 'setosa', 'virginica']\n",
            "['versicolor', 'versicolor', 'versicolor', 'virginica', 'virginica', 'virginica', 'setosa', 'virginica', 'setosa', 'versicolor']\n",
            "['versicolor', 'versicolor', 'versicolor', 'virginica', 'virginica', 'virginica', 'setosa', 'virginica', 'setosa', 'versicolor', 'virginica']\n",
            "['versicolor', 'versicolor', 'versicolor', 'virginica', 'virginica', 'virginica', 'setosa', 'virginica', 'setosa', 'versicolor', 'virginica', 'setosa', 'setosa']\n",
            "['versicolor', 'versicolor', 'versicolor', 'virginica', 'virginica', 'virginica', 'setosa', 'virginica', 'setosa', 'versicolor', 'virginica', 'setosa', 'setosa', 'virginica']\n",
            "['versicolor', 'versicolor', 'versicolor', 'virginica', 'virginica', 'virginica', 'setosa', 'virginica', 'setosa', 'versicolor', 'virginica', 'setosa', 'setosa', 'virginica', 'versicolor']\n",
            "['versicolor', 'versicolor', 'versicolor', 'virginica', 'virginica', 'virginica', 'setosa', 'virginica', 'setosa', 'versicolor', 'virginica', 'setosa', 'setosa', 'virginica', 'versicolor', 'versicolor']\n",
            "['versicolor', 'versicolor', 'versicolor', 'virginica', 'virginica', 'virginica', 'setosa', 'virginica', 'setosa', 'versicolor', 'virginica', 'setosa', 'setosa', 'virginica', 'versicolor', 'versicolor', 'setosa']\n",
            "['versicolor', 'versicolor', 'versicolor', 'virginica', 'virginica', 'virginica', 'setosa', 'virginica', 'setosa', 'versicolor', 'virginica', 'setosa', 'setosa', 'virginica', 'versicolor', 'versicolor', 'setosa', 'virginica', 'virginica', 'virginica']\n",
            "['versicolor', 'versicolor', 'versicolor', 'virginica', 'virginica', 'virginica', 'setosa', 'virginica', 'setosa', 'versicolor', 'virginica', 'setosa', 'setosa', 'virginica', 'versicolor', 'versicolor', 'setosa', 'virginica', 'virginica', 'virginica', 'setosa']\n",
            "['versicolor', 'versicolor', 'versicolor', 'virginica', 'virginica', 'virginica', 'setosa', 'virginica', 'setosa', 'versicolor', 'virginica', 'setosa', 'setosa', 'virginica', 'versicolor', 'versicolor', 'setosa', 'virginica', 'virginica', 'virginica', 'setosa', 'virginica']\n",
            "['versicolor', 'versicolor', 'versicolor', 'virginica', 'virginica', 'virginica', 'setosa', 'virginica', 'setosa', 'versicolor', 'virginica', 'setosa', 'setosa', 'virginica', 'versicolor', 'versicolor', 'setosa', 'virginica', 'virginica', 'virginica', 'setosa', 'virginica', 'versicolor', 'versicolor']\n",
            "['versicolor', 'versicolor', 'versicolor', 'virginica', 'virginica', 'virginica', 'setosa', 'virginica', 'setosa', 'versicolor', 'virginica', 'setosa', 'setosa', 'virginica', 'versicolor', 'versicolor', 'setosa', 'virginica', 'virginica', 'virginica', 'setosa', 'virginica', 'versicolor', 'versicolor', 'virginica']\n",
            "['versicolor', 'versicolor', 'versicolor', 'virginica', 'virginica', 'virginica', 'setosa', 'virginica', 'setosa', 'versicolor', 'virginica', 'setosa', 'setosa', 'virginica', 'versicolor', 'versicolor', 'setosa', 'virginica', 'virginica', 'virginica', 'setosa', 'virginica', 'versicolor', 'versicolor', 'virginica', 'setosa']\n",
            "['versicolor', 'versicolor', 'versicolor', 'virginica', 'virginica', 'virginica', 'setosa', 'virginica', 'setosa', 'versicolor', 'virginica', 'setosa', 'setosa', 'virginica', 'versicolor', 'versicolor', 'setosa', 'virginica', 'virginica', 'virginica', 'setosa', 'virginica', 'versicolor', 'versicolor', 'virginica', 'setosa', 'setosa']\n",
            "['versicolor', 'versicolor', 'versicolor', 'virginica', 'virginica', 'virginica', 'setosa', 'virginica', 'setosa', 'versicolor', 'virginica', 'setosa', 'setosa', 'virginica', 'versicolor', 'versicolor', 'setosa', 'virginica', 'virginica', 'virginica', 'setosa', 'virginica', 'versicolor', 'versicolor', 'virginica', 'setosa', 'setosa', 'virginica']\n",
            "['versicolor', 'versicolor', 'versicolor', 'virginica', 'virginica', 'virginica', 'setosa', 'virginica', 'setosa', 'versicolor', 'virginica', 'setosa', 'setosa', 'virginica', 'versicolor', 'versicolor', 'setosa', 'virginica', 'virginica', 'virginica', 'setosa', 'virginica', 'versicolor', 'versicolor', 'virginica', 'setosa', 'setosa', 'virginica', 'virginica']\n",
            "['versicolor', 'versicolor', 'versicolor', 'virginica', 'virginica', 'virginica', 'setosa', 'virginica', 'setosa', 'versicolor', 'virginica', 'setosa', 'setosa', 'virginica', 'versicolor', 'versicolor', 'setosa', 'virginica', 'virginica', 'virginica', 'setosa', 'virginica', 'versicolor', 'versicolor', 'virginica', 'setosa', 'setosa', 'virginica', 'virginica', 'versicolor']\n"
          ]
        }
      ]
    },
    {
      "cell_type": "code",
      "source": [
        "for gt, pr in zip(y_test, pred):\n",
        "    print('%s%20s'%(gt, pr))"
      ],
      "metadata": {
        "colab": {
          "base_uri": "https://localhost:8080/"
        },
        "id": "hUbs2FFAX3gg",
        "outputId": "11d19e12-452f-464c-d7eb-b82f456d17e6"
      },
      "id": "hUbs2FFAX3gg",
      "execution_count": 103,
      "outputs": [
        {
          "output_type": "stream",
          "name": "stdout",
          "text": [
            "versicolor          versicolor\n",
            "versicolor          versicolor\n",
            "virginica          versicolor\n",
            "setosa           virginica\n",
            "versicolor           virginica\n",
            "virginica           virginica\n",
            "setosa              setosa\n",
            "virginica           virginica\n",
            "setosa              setosa\n",
            "versicolor          versicolor\n",
            "virginica           virginica\n",
            "setosa              setosa\n",
            "setosa              setosa\n",
            "virginica           virginica\n",
            "versicolor          versicolor\n",
            "versicolor          versicolor\n",
            "setosa              setosa\n",
            "versicolor           virginica\n",
            "versicolor           virginica\n",
            "virginica           virginica\n",
            "setosa              setosa\n",
            "virginica           virginica\n",
            "versicolor          versicolor\n",
            "versicolor          versicolor\n",
            "virginica           virginica\n",
            "setosa              setosa\n",
            "setosa              setosa\n",
            "virginica           virginica\n",
            "virginica           virginica\n",
            "versicolor          versicolor\n"
          ]
        }
      ]
    },
    {
      "cell_type": "code",
      "source": [
        "accuracy_score(y_test, pred)"
      ],
      "metadata": {
        "colab": {
          "base_uri": "https://localhost:8080/"
        },
        "id": "mcvbKDOCg5lH",
        "outputId": "fcc3674b-43d9-4ec7-ed5c-47a46fb662dd"
      },
      "id": "mcvbKDOCg5lH",
      "execution_count": 104,
      "outputs": [
        {
          "output_type": "execute_result",
          "data": {
            "text/plain": [
              "0.8333333333333334"
            ]
          },
          "metadata": {},
          "execution_count": 104
        }
      ]
    }
  ],
  "metadata": {
    "kernelspec": {
      "display_name": "Python 3",
      "language": "python",
      "name": "python3"
    },
    "language_info": {
      "codemirror_mode": {
        "name": "ipython",
        "version": 3
      },
      "file_extension": ".py",
      "mimetype": "text/x-python",
      "name": "python",
      "nbconvert_exporter": "python",
      "pygments_lexer": "ipython3",
      "version": "3.8.8"
    },
    "colab": {
      "name": "Assignment.ipynb",
      "provenance": [],
      "collapsed_sections": []
    }
  },
  "nbformat": 4,
  "nbformat_minor": 5
}