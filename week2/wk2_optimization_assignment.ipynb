{
  "cells": [
    {
      "cell_type": "markdown",
      "metadata": {
        "id": "d2StPehwLMat"
      },
      "source": [
        "# Tobig's 18기 2주차 Optimization 과제"
      ]
    },
    {
      "cell_type": "markdown",
      "metadata": {
        "id": "DKIX8PqcLMaw"
      },
      "source": [
        "# Gradient Descent 구현하기\n",
        "\n",
        "### 1)\"...\"표시되어 있는 빈 칸을 채워주세요\n",
        "### 2)강의내용과 코드에 대해 공부한 내용을 마크마운 또는 주석으로 설명해주세요"
      ]
    },
    {
      "cell_type": "markdown",
      "metadata": {
        "id": "C6DNHHXfLMax"
      },
      "source": [
        "## 데이터"
      ]
    },
    {
      "cell_type": "code",
      "execution_count": 1,
      "metadata": {
        "id": "EP3O4xptLMay"
      },
      "outputs": [],
      "source": [
        "import pandas as pd\n",
        "import numpy as np\n",
        "import random"
      ]
    },
    {
      "cell_type": "code",
      "execution_count": 4,
      "metadata": {
        "id": "oByQ9wXHLMay",
        "colab": {
          "base_uri": "https://localhost:8080/",
          "height": 206
        },
        "outputId": "134fa1fc-ed45-427a-ea87-b0e5cadc271e"
      },
      "outputs": [
        {
          "output_type": "execute_result",
          "data": {
            "text/plain": [
              "   Label  bias  experience  salary\n",
              "0      1     1         0.7   48000\n",
              "1      0     1         1.9   48000\n",
              "2      1     1         2.5   60000\n",
              "3      0     1         4.2   63000\n",
              "4      0     1         6.0   76000"
            ],
            "text/html": [
              "\n",
              "  <div id=\"df-2d727f59-6c1f-41c6-8265-3d74b7c0fdc8\">\n",
              "    <div class=\"colab-df-container\">\n",
              "      <div>\n",
              "<style scoped>\n",
              "    .dataframe tbody tr th:only-of-type {\n",
              "        vertical-align: middle;\n",
              "    }\n",
              "\n",
              "    .dataframe tbody tr th {\n",
              "        vertical-align: top;\n",
              "    }\n",
              "\n",
              "    .dataframe thead th {\n",
              "        text-align: right;\n",
              "    }\n",
              "</style>\n",
              "<table border=\"1\" class=\"dataframe\">\n",
              "  <thead>\n",
              "    <tr style=\"text-align: right;\">\n",
              "      <th></th>\n",
              "      <th>Label</th>\n",
              "      <th>bias</th>\n",
              "      <th>experience</th>\n",
              "      <th>salary</th>\n",
              "    </tr>\n",
              "  </thead>\n",
              "  <tbody>\n",
              "    <tr>\n",
              "      <th>0</th>\n",
              "      <td>1</td>\n",
              "      <td>1</td>\n",
              "      <td>0.7</td>\n",
              "      <td>48000</td>\n",
              "    </tr>\n",
              "    <tr>\n",
              "      <th>1</th>\n",
              "      <td>0</td>\n",
              "      <td>1</td>\n",
              "      <td>1.9</td>\n",
              "      <td>48000</td>\n",
              "    </tr>\n",
              "    <tr>\n",
              "      <th>2</th>\n",
              "      <td>1</td>\n",
              "      <td>1</td>\n",
              "      <td>2.5</td>\n",
              "      <td>60000</td>\n",
              "    </tr>\n",
              "    <tr>\n",
              "      <th>3</th>\n",
              "      <td>0</td>\n",
              "      <td>1</td>\n",
              "      <td>4.2</td>\n",
              "      <td>63000</td>\n",
              "    </tr>\n",
              "    <tr>\n",
              "      <th>4</th>\n",
              "      <td>0</td>\n",
              "      <td>1</td>\n",
              "      <td>6.0</td>\n",
              "      <td>76000</td>\n",
              "    </tr>\n",
              "  </tbody>\n",
              "</table>\n",
              "</div>\n",
              "      <button class=\"colab-df-convert\" onclick=\"convertToInteractive('df-2d727f59-6c1f-41c6-8265-3d74b7c0fdc8')\"\n",
              "              title=\"Convert this dataframe to an interactive table.\"\n",
              "              style=\"display:none;\">\n",
              "        \n",
              "  <svg xmlns=\"http://www.w3.org/2000/svg\" height=\"24px\"viewBox=\"0 0 24 24\"\n",
              "       width=\"24px\">\n",
              "    <path d=\"M0 0h24v24H0V0z\" fill=\"none\"/>\n",
              "    <path d=\"M18.56 5.44l.94 2.06.94-2.06 2.06-.94-2.06-.94-.94-2.06-.94 2.06-2.06.94zm-11 1L8.5 8.5l.94-2.06 2.06-.94-2.06-.94L8.5 2.5l-.94 2.06-2.06.94zm10 10l.94 2.06.94-2.06 2.06-.94-2.06-.94-.94-2.06-.94 2.06-2.06.94z\"/><path d=\"M17.41 7.96l-1.37-1.37c-.4-.4-.92-.59-1.43-.59-.52 0-1.04.2-1.43.59L10.3 9.45l-7.72 7.72c-.78.78-.78 2.05 0 2.83L4 21.41c.39.39.9.59 1.41.59.51 0 1.02-.2 1.41-.59l7.78-7.78 2.81-2.81c.8-.78.8-2.07 0-2.86zM5.41 20L4 18.59l7.72-7.72 1.47 1.35L5.41 20z\"/>\n",
              "  </svg>\n",
              "      </button>\n",
              "      \n",
              "  <style>\n",
              "    .colab-df-container {\n",
              "      display:flex;\n",
              "      flex-wrap:wrap;\n",
              "      gap: 12px;\n",
              "    }\n",
              "\n",
              "    .colab-df-convert {\n",
              "      background-color: #E8F0FE;\n",
              "      border: none;\n",
              "      border-radius: 50%;\n",
              "      cursor: pointer;\n",
              "      display: none;\n",
              "      fill: #1967D2;\n",
              "      height: 32px;\n",
              "      padding: 0 0 0 0;\n",
              "      width: 32px;\n",
              "    }\n",
              "\n",
              "    .colab-df-convert:hover {\n",
              "      background-color: #E2EBFA;\n",
              "      box-shadow: 0px 1px 2px rgba(60, 64, 67, 0.3), 0px 1px 3px 1px rgba(60, 64, 67, 0.15);\n",
              "      fill: #174EA6;\n",
              "    }\n",
              "\n",
              "    [theme=dark] .colab-df-convert {\n",
              "      background-color: #3B4455;\n",
              "      fill: #D2E3FC;\n",
              "    }\n",
              "\n",
              "    [theme=dark] .colab-df-convert:hover {\n",
              "      background-color: #434B5C;\n",
              "      box-shadow: 0px 1px 3px 1px rgba(0, 0, 0, 0.15);\n",
              "      filter: drop-shadow(0px 1px 2px rgba(0, 0, 0, 0.3));\n",
              "      fill: #FFFFFF;\n",
              "    }\n",
              "  </style>\n",
              "\n",
              "      <script>\n",
              "        const buttonEl =\n",
              "          document.querySelector('#df-2d727f59-6c1f-41c6-8265-3d74b7c0fdc8 button.colab-df-convert');\n",
              "        buttonEl.style.display =\n",
              "          google.colab.kernel.accessAllowed ? 'block' : 'none';\n",
              "\n",
              "        async function convertToInteractive(key) {\n",
              "          const element = document.querySelector('#df-2d727f59-6c1f-41c6-8265-3d74b7c0fdc8');\n",
              "          const dataTable =\n",
              "            await google.colab.kernel.invokeFunction('convertToInteractive',\n",
              "                                                     [key], {});\n",
              "          if (!dataTable) return;\n",
              "\n",
              "          const docLinkHtml = 'Like what you see? Visit the ' +\n",
              "            '<a target=\"_blank\" href=https://colab.research.google.com/notebooks/data_table.ipynb>data table notebook</a>'\n",
              "            + ' to learn more about interactive tables.';\n",
              "          element.innerHTML = '';\n",
              "          dataTable['output_type'] = 'display_data';\n",
              "          await google.colab.output.renderOutput(dataTable, element);\n",
              "          const docLink = document.createElement('div');\n",
              "          docLink.innerHTML = docLinkHtml;\n",
              "          element.appendChild(docLink);\n",
              "        }\n",
              "      </script>\n",
              "    </div>\n",
              "  </div>\n",
              "  "
            ]
          },
          "metadata": {},
          "execution_count": 4
        }
      ],
      "source": [
        "data = pd.read_csv('assignment_2.csv')\n",
        "data.head()"
      ]
    },
    {
      "cell_type": "markdown",
      "metadata": {
        "id": "ubOR3hWGLMaz"
      },
      "source": [
        "## Train Test 데이터 나누기"
      ]
    },
    {
      "cell_type": "code",
      "execution_count": 5,
      "metadata": {
        "id": "IySSjlizLMaz"
      },
      "outputs": [],
      "source": [
        "from sklearn.model_selection import train_test_split"
      ]
    },
    {
      "cell_type": "code",
      "execution_count": 6,
      "metadata": {
        "id": "075EQI1bLMa0"
      },
      "outputs": [],
      "source": [
        "X_train, X_test, y_train, y_test = train_test_split(data.iloc[:, 1:], data.iloc[:, 0], test_size = 0.25, random_state = 0)"
      ]
    },
    {
      "cell_type": "code",
      "execution_count": 7,
      "metadata": {
        "id": "O8Ht5u8kLMa1",
        "colab": {
          "base_uri": "https://localhost:8080/"
        },
        "outputId": "03556996-a272-4c8e-d15e-49cdbf893925"
      },
      "outputs": [
        {
          "output_type": "execute_result",
          "data": {
            "text/plain": [
              "((150, 3), (50, 3), (150,), (50,))"
            ]
          },
          "metadata": {},
          "execution_count": 7
        }
      ],
      "source": [
        "X_train.shape, X_test.shape, y_train.shape, y_test.shape"
      ]
    },
    {
      "cell_type": "markdown",
      "metadata": {
        "id": "hYmxND_xLMa2"
      },
      "source": [
        "## Scaling\n",
        "\n",
        "experience와 salary의 단위, 평균, 분산이 크게 차이나므로 scaler를 사용해 단위를 맞춰줍니다. "
      ]
    },
    {
      "cell_type": "code",
      "execution_count": 8,
      "metadata": {
        "id": "UI0Xy0gHLMa3",
        "colab": {
          "base_uri": "https://localhost:8080/",
          "height": 206
        },
        "outputId": "04f9630c-e981-4d88-a0d0-557058fbb82f"
      },
      "outputs": [
        {
          "output_type": "execute_result",
          "data": {
            "text/plain": [
              "   bias  experience    salary\n",
              "0     1    0.187893 -1.143335\n",
              "1     1    1.185555  0.043974\n",
              "2     1   -0.310938 -0.351795\n",
              "3     1   -1.629277 -1.341220\n",
              "4     1   -1.308600  0.043974"
            ],
            "text/html": [
              "\n",
              "  <div id=\"df-663ff277-4bb2-4dd5-90f9-f3c5c5f935b3\">\n",
              "    <div class=\"colab-df-container\">\n",
              "      <div>\n",
              "<style scoped>\n",
              "    .dataframe tbody tr th:only-of-type {\n",
              "        vertical-align: middle;\n",
              "    }\n",
              "\n",
              "    .dataframe tbody tr th {\n",
              "        vertical-align: top;\n",
              "    }\n",
              "\n",
              "    .dataframe thead th {\n",
              "        text-align: right;\n",
              "    }\n",
              "</style>\n",
              "<table border=\"1\" class=\"dataframe\">\n",
              "  <thead>\n",
              "    <tr style=\"text-align: right;\">\n",
              "      <th></th>\n",
              "      <th>bias</th>\n",
              "      <th>experience</th>\n",
              "      <th>salary</th>\n",
              "    </tr>\n",
              "  </thead>\n",
              "  <tbody>\n",
              "    <tr>\n",
              "      <th>0</th>\n",
              "      <td>1</td>\n",
              "      <td>0.187893</td>\n",
              "      <td>-1.143335</td>\n",
              "    </tr>\n",
              "    <tr>\n",
              "      <th>1</th>\n",
              "      <td>1</td>\n",
              "      <td>1.185555</td>\n",
              "      <td>0.043974</td>\n",
              "    </tr>\n",
              "    <tr>\n",
              "      <th>2</th>\n",
              "      <td>1</td>\n",
              "      <td>-0.310938</td>\n",
              "      <td>-0.351795</td>\n",
              "    </tr>\n",
              "    <tr>\n",
              "      <th>3</th>\n",
              "      <td>1</td>\n",
              "      <td>-1.629277</td>\n",
              "      <td>-1.341220</td>\n",
              "    </tr>\n",
              "    <tr>\n",
              "      <th>4</th>\n",
              "      <td>1</td>\n",
              "      <td>-1.308600</td>\n",
              "      <td>0.043974</td>\n",
              "    </tr>\n",
              "  </tbody>\n",
              "</table>\n",
              "</div>\n",
              "      <button class=\"colab-df-convert\" onclick=\"convertToInteractive('df-663ff277-4bb2-4dd5-90f9-f3c5c5f935b3')\"\n",
              "              title=\"Convert this dataframe to an interactive table.\"\n",
              "              style=\"display:none;\">\n",
              "        \n",
              "  <svg xmlns=\"http://www.w3.org/2000/svg\" height=\"24px\"viewBox=\"0 0 24 24\"\n",
              "       width=\"24px\">\n",
              "    <path d=\"M0 0h24v24H0V0z\" fill=\"none\"/>\n",
              "    <path d=\"M18.56 5.44l.94 2.06.94-2.06 2.06-.94-2.06-.94-.94-2.06-.94 2.06-2.06.94zm-11 1L8.5 8.5l.94-2.06 2.06-.94-2.06-.94L8.5 2.5l-.94 2.06-2.06.94zm10 10l.94 2.06.94-2.06 2.06-.94-2.06-.94-.94-2.06-.94 2.06-2.06.94z\"/><path d=\"M17.41 7.96l-1.37-1.37c-.4-.4-.92-.59-1.43-.59-.52 0-1.04.2-1.43.59L10.3 9.45l-7.72 7.72c-.78.78-.78 2.05 0 2.83L4 21.41c.39.39.9.59 1.41.59.51 0 1.02-.2 1.41-.59l7.78-7.78 2.81-2.81c.8-.78.8-2.07 0-2.86zM5.41 20L4 18.59l7.72-7.72 1.47 1.35L5.41 20z\"/>\n",
              "  </svg>\n",
              "      </button>\n",
              "      \n",
              "  <style>\n",
              "    .colab-df-container {\n",
              "      display:flex;\n",
              "      flex-wrap:wrap;\n",
              "      gap: 12px;\n",
              "    }\n",
              "\n",
              "    .colab-df-convert {\n",
              "      background-color: #E8F0FE;\n",
              "      border: none;\n",
              "      border-radius: 50%;\n",
              "      cursor: pointer;\n",
              "      display: none;\n",
              "      fill: #1967D2;\n",
              "      height: 32px;\n",
              "      padding: 0 0 0 0;\n",
              "      width: 32px;\n",
              "    }\n",
              "\n",
              "    .colab-df-convert:hover {\n",
              "      background-color: #E2EBFA;\n",
              "      box-shadow: 0px 1px 2px rgba(60, 64, 67, 0.3), 0px 1px 3px 1px rgba(60, 64, 67, 0.15);\n",
              "      fill: #174EA6;\n",
              "    }\n",
              "\n",
              "    [theme=dark] .colab-df-convert {\n",
              "      background-color: #3B4455;\n",
              "      fill: #D2E3FC;\n",
              "    }\n",
              "\n",
              "    [theme=dark] .colab-df-convert:hover {\n",
              "      background-color: #434B5C;\n",
              "      box-shadow: 0px 1px 3px 1px rgba(0, 0, 0, 0.15);\n",
              "      filter: drop-shadow(0px 1px 2px rgba(0, 0, 0, 0.3));\n",
              "      fill: #FFFFFF;\n",
              "    }\n",
              "  </style>\n",
              "\n",
              "      <script>\n",
              "        const buttonEl =\n",
              "          document.querySelector('#df-663ff277-4bb2-4dd5-90f9-f3c5c5f935b3 button.colab-df-convert');\n",
              "        buttonEl.style.display =\n",
              "          google.colab.kernel.accessAllowed ? 'block' : 'none';\n",
              "\n",
              "        async function convertToInteractive(key) {\n",
              "          const element = document.querySelector('#df-663ff277-4bb2-4dd5-90f9-f3c5c5f935b3');\n",
              "          const dataTable =\n",
              "            await google.colab.kernel.invokeFunction('convertToInteractive',\n",
              "                                                     [key], {});\n",
              "          if (!dataTable) return;\n",
              "\n",
              "          const docLinkHtml = 'Like what you see? Visit the ' +\n",
              "            '<a target=\"_blank\" href=https://colab.research.google.com/notebooks/data_table.ipynb>data table notebook</a>'\n",
              "            + ' to learn more about interactive tables.';\n",
              "          element.innerHTML = '';\n",
              "          dataTable['output_type'] = 'display_data';\n",
              "          await google.colab.output.renderOutput(dataTable, element);\n",
              "          const docLink = document.createElement('div');\n",
              "          docLink.innerHTML = docLinkHtml;\n",
              "          element.appendChild(docLink);\n",
              "        }\n",
              "      </script>\n",
              "    </div>\n",
              "  </div>\n",
              "  "
            ]
          },
          "metadata": {},
          "execution_count": 8
        }
      ],
      "source": [
        "from sklearn.preprocessing import StandardScaler\n",
        "scaler = StandardScaler()\n",
        "bias_train = X_train[\"bias\"]\n",
        "bias_train = bias_train.reset_index()[\"bias\"]\n",
        "X_train = pd.DataFrame(scaler.fit_transform(X_train), columns = X_train.columns)\n",
        "X_train[\"bias\"] = bias_train\n",
        "X_train.head()"
      ]
    },
    {
      "cell_type": "markdown",
      "metadata": {
        "id": "xD7L7RwZLMa3"
      },
      "source": [
        "이때 scaler는 X_train에 fit 해주시고, fit한 scaler를 X_test에 적용시켜줍니다.  \n",
        "똑같이 X_test에다 fit하면 안돼요!"
      ]
    },
    {
      "cell_type": "code",
      "execution_count": 9,
      "metadata": {
        "id": "xBsUSCGGLMa3",
        "colab": {
          "base_uri": "https://localhost:8080/",
          "height": 206
        },
        "outputId": "9ae2c3a0-1e00-42f2-9a86-ce82dedb9898"
      },
      "outputs": [
        {
          "output_type": "execute_result",
          "data": {
            "text/plain": [
              "   bias  experience    salary\n",
              "0     1   -1.344231 -0.615642\n",
              "1     1    0.508570  0.307821\n",
              "2     1   -0.310938  0.571667\n",
              "3     1    1.363709  1.956862\n",
              "4     1   -0.987923 -0.747565"
            ],
            "text/html": [
              "\n",
              "  <div id=\"df-a5d9f30d-5a49-418c-aed5-a2f4da19c30a\">\n",
              "    <div class=\"colab-df-container\">\n",
              "      <div>\n",
              "<style scoped>\n",
              "    .dataframe tbody tr th:only-of-type {\n",
              "        vertical-align: middle;\n",
              "    }\n",
              "\n",
              "    .dataframe tbody tr th {\n",
              "        vertical-align: top;\n",
              "    }\n",
              "\n",
              "    .dataframe thead th {\n",
              "        text-align: right;\n",
              "    }\n",
              "</style>\n",
              "<table border=\"1\" class=\"dataframe\">\n",
              "  <thead>\n",
              "    <tr style=\"text-align: right;\">\n",
              "      <th></th>\n",
              "      <th>bias</th>\n",
              "      <th>experience</th>\n",
              "      <th>salary</th>\n",
              "    </tr>\n",
              "  </thead>\n",
              "  <tbody>\n",
              "    <tr>\n",
              "      <th>0</th>\n",
              "      <td>1</td>\n",
              "      <td>-1.344231</td>\n",
              "      <td>-0.615642</td>\n",
              "    </tr>\n",
              "    <tr>\n",
              "      <th>1</th>\n",
              "      <td>1</td>\n",
              "      <td>0.508570</td>\n",
              "      <td>0.307821</td>\n",
              "    </tr>\n",
              "    <tr>\n",
              "      <th>2</th>\n",
              "      <td>1</td>\n",
              "      <td>-0.310938</td>\n",
              "      <td>0.571667</td>\n",
              "    </tr>\n",
              "    <tr>\n",
              "      <th>3</th>\n",
              "      <td>1</td>\n",
              "      <td>1.363709</td>\n",
              "      <td>1.956862</td>\n",
              "    </tr>\n",
              "    <tr>\n",
              "      <th>4</th>\n",
              "      <td>1</td>\n",
              "      <td>-0.987923</td>\n",
              "      <td>-0.747565</td>\n",
              "    </tr>\n",
              "  </tbody>\n",
              "</table>\n",
              "</div>\n",
              "      <button class=\"colab-df-convert\" onclick=\"convertToInteractive('df-a5d9f30d-5a49-418c-aed5-a2f4da19c30a')\"\n",
              "              title=\"Convert this dataframe to an interactive table.\"\n",
              "              style=\"display:none;\">\n",
              "        \n",
              "  <svg xmlns=\"http://www.w3.org/2000/svg\" height=\"24px\"viewBox=\"0 0 24 24\"\n",
              "       width=\"24px\">\n",
              "    <path d=\"M0 0h24v24H0V0z\" fill=\"none\"/>\n",
              "    <path d=\"M18.56 5.44l.94 2.06.94-2.06 2.06-.94-2.06-.94-.94-2.06-.94 2.06-2.06.94zm-11 1L8.5 8.5l.94-2.06 2.06-.94-2.06-.94L8.5 2.5l-.94 2.06-2.06.94zm10 10l.94 2.06.94-2.06 2.06-.94-2.06-.94-.94-2.06-.94 2.06-2.06.94z\"/><path d=\"M17.41 7.96l-1.37-1.37c-.4-.4-.92-.59-1.43-.59-.52 0-1.04.2-1.43.59L10.3 9.45l-7.72 7.72c-.78.78-.78 2.05 0 2.83L4 21.41c.39.39.9.59 1.41.59.51 0 1.02-.2 1.41-.59l7.78-7.78 2.81-2.81c.8-.78.8-2.07 0-2.86zM5.41 20L4 18.59l7.72-7.72 1.47 1.35L5.41 20z\"/>\n",
              "  </svg>\n",
              "      </button>\n",
              "      \n",
              "  <style>\n",
              "    .colab-df-container {\n",
              "      display:flex;\n",
              "      flex-wrap:wrap;\n",
              "      gap: 12px;\n",
              "    }\n",
              "\n",
              "    .colab-df-convert {\n",
              "      background-color: #E8F0FE;\n",
              "      border: none;\n",
              "      border-radius: 50%;\n",
              "      cursor: pointer;\n",
              "      display: none;\n",
              "      fill: #1967D2;\n",
              "      height: 32px;\n",
              "      padding: 0 0 0 0;\n",
              "      width: 32px;\n",
              "    }\n",
              "\n",
              "    .colab-df-convert:hover {\n",
              "      background-color: #E2EBFA;\n",
              "      box-shadow: 0px 1px 2px rgba(60, 64, 67, 0.3), 0px 1px 3px 1px rgba(60, 64, 67, 0.15);\n",
              "      fill: #174EA6;\n",
              "    }\n",
              "\n",
              "    [theme=dark] .colab-df-convert {\n",
              "      background-color: #3B4455;\n",
              "      fill: #D2E3FC;\n",
              "    }\n",
              "\n",
              "    [theme=dark] .colab-df-convert:hover {\n",
              "      background-color: #434B5C;\n",
              "      box-shadow: 0px 1px 3px 1px rgba(0, 0, 0, 0.15);\n",
              "      filter: drop-shadow(0px 1px 2px rgba(0, 0, 0, 0.3));\n",
              "      fill: #FFFFFF;\n",
              "    }\n",
              "  </style>\n",
              "\n",
              "      <script>\n",
              "        const buttonEl =\n",
              "          document.querySelector('#df-a5d9f30d-5a49-418c-aed5-a2f4da19c30a button.colab-df-convert');\n",
              "        buttonEl.style.display =\n",
              "          google.colab.kernel.accessAllowed ? 'block' : 'none';\n",
              "\n",
              "        async function convertToInteractive(key) {\n",
              "          const element = document.querySelector('#df-a5d9f30d-5a49-418c-aed5-a2f4da19c30a');\n",
              "          const dataTable =\n",
              "            await google.colab.kernel.invokeFunction('convertToInteractive',\n",
              "                                                     [key], {});\n",
              "          if (!dataTable) return;\n",
              "\n",
              "          const docLinkHtml = 'Like what you see? Visit the ' +\n",
              "            '<a target=\"_blank\" href=https://colab.research.google.com/notebooks/data_table.ipynb>data table notebook</a>'\n",
              "            + ' to learn more about interactive tables.';\n",
              "          element.innerHTML = '';\n",
              "          dataTable['output_type'] = 'display_data';\n",
              "          await google.colab.output.renderOutput(dataTable, element);\n",
              "          const docLink = document.createElement('div');\n",
              "          docLink.innerHTML = docLinkHtml;\n",
              "          element.appendChild(docLink);\n",
              "        }\n",
              "      </script>\n",
              "    </div>\n",
              "  </div>\n",
              "  "
            ]
          },
          "metadata": {},
          "execution_count": 9
        }
      ],
      "source": [
        "bias_test = X_test[\"bias\"]\n",
        "bias_test = bias_test.reset_index()[\"bias\"]\n",
        "X_test = pd.DataFrame(scaler.transform(X_test), columns = X_test.columns)\n",
        "X_test[\"bias\"] = bias_test\n",
        "X_test.head()"
      ]
    },
    {
      "cell_type": "code",
      "execution_count": 10,
      "metadata": {
        "id": "m9sP3nzlLMa4"
      },
      "outputs": [],
      "source": [
        "# parameter 개수\n",
        "N = len(X_train.loc[0])"
      ]
    },
    {
      "cell_type": "code",
      "execution_count": 11,
      "metadata": {
        "id": "qz7xz9dbLMa4",
        "colab": {
          "base_uri": "https://localhost:8080/"
        },
        "outputId": "b34f353f-6b04-4ad7-c0e8-48aef0238367"
      },
      "outputs": [
        {
          "output_type": "execute_result",
          "data": {
            "text/plain": [
              "array([0.15523015, 0.46036334, 0.86481914])"
            ]
          },
          "metadata": {},
          "execution_count": 11
        }
      ],
      "source": [
        "# 초기 parameter들을 임의로 설정해줍니다.\n",
        "parameters = np.array([random.random() for i in range(N)])\n",
        "random_parameters = parameters.copy()\n",
        "parameters"
      ]
    },
    {
      "cell_type": "markdown",
      "metadata": {
        "id": "QINz-EAKLMa4"
      },
      "source": [
        "### * LaTeX   \n",
        "\n",
        "Jupyter Notebook은 LaTeX 문법으로 수식 입력을 지원하고 있습니다.  \n",
        "LaTeX문법으로 아래의 수식을 완성해주세요  \n",
        "http://triki.net/apps/3466  \n",
        "https://jjycjnmath.tistory.com/117"
      ]
    },
    {
      "cell_type": "markdown",
      "metadata": {
        "id": "D2DsTfXuLMa5"
      },
      "source": [
        "## Dot product\n",
        "## $z = X_i \\theta$"
      ]
    },
    {
      "cell_type": "code",
      "execution_count": 13,
      "metadata": {
        "id": "2y05lS6xLMa5"
      },
      "outputs": [],
      "source": [
        "def dot_product(X, parameters):\n",
        "    z = 0\n",
        "    for i in range(len(parameters)):\n",
        "        z +=X[i]*parameters[i]\n",
        "    return z"
      ]
    },
    {
      "cell_type": "markdown",
      "metadata": {
        "id": "fOGPEhtOLMa5"
      },
      "source": [
        "## Logistic Function\n",
        "\n",
        "## $p = \"...\"$"
      ]
    },
    {
      "cell_type": "code",
      "execution_count": 14,
      "metadata": {
        "id": "2awM57u5LMa5"
      },
      "outputs": [],
      "source": [
        "def logistic(X, parameters):\n",
        "    z = dot_product(X, parameters)\n",
        "    p = 1 / (1 + np.exp(-z)) \n",
        "    return p"
      ]
    },
    {
      "cell_type": "code",
      "execution_count": 15,
      "metadata": {
        "id": "WVaZEwrdLMa5",
        "colab": {
          "base_uri": "https://localhost:8080/"
        },
        "outputId": "d5fd783d-83da-4b75-b9e8-577f83712260"
      },
      "outputs": [
        {
          "output_type": "execute_result",
          "data": {
            "text/plain": [
              "0.6767872559873949"
            ]
          },
          "metadata": {},
          "execution_count": 15
        }
      ],
      "source": [
        "logistic(X_train.iloc[1], parameters)"
      ]
    },
    {
      "cell_type": "markdown",
      "metadata": {
        "id": "E6cXHl8bLMa6"
      },
      "source": [
        "## Object function\n",
        "\n",
        "Object Function : 목적함수는 Gradient Descent를 통해 최적화 하고자 하는 함수입니다.  \n",
        "<br>\n",
        "선형 회귀의 목적함수\n",
        "## $l(\\theta) = \\frac{1}{2}\\Sigma(y_i - \\theta^{T}X_i)^2$  \n",
        "참고) $\\hat{y_i} = \\theta^{T}X_i$\n",
        "  \n",
        "로지스틱 회귀의 목적함수를 작성해주세요  \n",
        "(선형 회귀의 목적함수처럼 강의에 나온대로 작성해주세요. 평균을 고려하는 것은 뒤에 코드에서 수행합니다)\n",
        "## $l(p) =$ \"...\""
      ]
    },
    {
      "cell_type": "code",
      "execution_count": 16,
      "metadata": {
        "id": "FnGRAur3LMa6"
      },
      "outputs": [],
      "source": [
        "def minus_log_cross_entropy_i(X, y, parameters):\n",
        "    p = logistic(X, parameters)\n",
        "    loss = (y * np.log(p) + (1 - y) * np.log(1-p))\n",
        "    return -loss"
      ]
    },
    {
      "cell_type": "code",
      "execution_count": 17,
      "metadata": {
        "id": "C922eXYyLMa6"
      },
      "outputs": [],
      "source": [
        "def mse_i(X, y, parameters):\n",
        "    y_hat = np.dot(X, parameters.T)\n",
        "    loss = ((y - y_hat)**2) / 2\n",
        "    return loss"
      ]
    },
    {
      "cell_type": "code",
      "execution_count": 19,
      "metadata": {
        "id": "0j-MhGkyLMa6"
      },
      "outputs": [],
      "source": [
        "def batch_loss(X_set, y_set, parameters, loss_function, n): \n",
        "    loss = 0\n",
        "    for i in range(X_set.shape[0]):\n",
        "        X = X_set.iloc[i,:]\n",
        "        y = y_set.iloc[i]\n",
        "        loss += loss_function(X,y,parameters)\n",
        "    loss = loss/n\n",
        "    return loss"
      ]
    },
    {
      "cell_type": "code",
      "execution_count": 20,
      "metadata": {
        "id": "uSkPS5olLMa7",
        "colab": {
          "base_uri": "https://localhost:8080/"
        },
        "outputId": "ffa6657d-e4bf-4fc0-9ddb-373e2ba263ab"
      },
      "outputs": [
        {
          "output_type": "execute_result",
          "data": {
            "text/plain": [
              "1.1097146021828377"
            ]
          },
          "metadata": {},
          "execution_count": 20
        }
      ],
      "source": [
        "batch_loss(X_test, y_test, parameters, minus_log_cross_entropy_i, len(X_test))"
      ]
    },
    {
      "cell_type": "markdown",
      "metadata": {
        "id": "ACLi9vCyLMa7"
      },
      "source": [
        "## Gradient\n",
        "위의 선형회귀의 목적함수 $l(\\theta)$와 로지스틱회귀의 목적함수 $l(p)$의 gradient를 작성해주세요  \n",
        "(위의 목적함수를 참고해서 작성해주세요 = 평균을 고려하는 것은 뒤에 코드에서 수행합니다)"
      ]
    },
    {
      "cell_type": "markdown",
      "metadata": {
        "id": "caMA-f00LMa7"
      },
      "source": [
        "## ${\\partial\\over{\\partial \\theta_j}}l(\\theta)=$ \"...\"\n",
        "## ${\\partial\\over{\\partial \\theta_j}}l(p)=$ \"...\""
      ]
    },
    {
      "cell_type": "code",
      "execution_count": 21,
      "metadata": {
        "id": "apZ0Miz5LMa7"
      },
      "outputs": [],
      "source": [
        "def get_gradient_ij(X, y, parameters, j, model):\n",
        "    if model == 'linear':\n",
        "        y_hat = np.dot(X, parameters.T)\n",
        "        gradient = (y - y_hat) * X[j]\n",
        "    else:\n",
        "        p = logistic(X, parameters)\n",
        "        gradient = (y - p) * X[j]\n",
        "    return -gradient"
      ]
    },
    {
      "cell_type": "code",
      "execution_count": 22,
      "metadata": {
        "id": "XXBe6q8gLMa7",
        "colab": {
          "base_uri": "https://localhost:8080/"
        },
        "outputId": "c04762e5-5209-400b-8180-f5927afc3fb0"
      },
      "outputs": [
        {
          "output_type": "execute_result",
          "data": {
            "text/plain": [
              "-0.12749205945122002"
            ]
          },
          "metadata": {},
          "execution_count": 22
        }
      ],
      "source": [
        "get_gradient_ij(X_train.iloc[0,:], y_train.iloc[0], parameters, 1, 'logistic')"
      ]
    },
    {
      "cell_type": "code",
      "execution_count": 24,
      "metadata": {
        "id": "Pm6vvWPBQWni"
      },
      "outputs": [],
      "source": [
        "from IPython.display import Image"
      ]
    },
    {
      "cell_type": "markdown",
      "metadata": {
        "id": "8so_9mp_QWnj"
      },
      "source": [
        ""
      ]
    },
    {
      "cell_type": "markdown",
      "metadata": {
        "id": "wTfzKh_nLMa7"
      },
      "source": [
        "## Batch Gradient\n",
        "하나의 배치 (X_set, y_set)에 대해 기울기를 구하는 코드를 작성해주세요"
      ]
    },
    {
      "cell_type": "code",
      "execution_count": 25,
      "metadata": {
        "id": "Qby2_X1vLMa7"
      },
      "outputs": [],
      "source": [
        "def batch_gradient(X_set, y_set, parameters, model):\n",
        "    gradients = [0 for _ in range(len(parameters))]\n",
        "    \n",
        "    for i in range(len(X_set)):\n",
        "        X = X_set.iloc[i,:]\n",
        "        y = y_set.iloc[i]\n",
        "        for j in range(len(parameters)):\n",
        "            gradients[j] += get_gradient_ij(X, y, parameters, j, model)\n",
        "    \n",
        "    return gradients"
      ]
    },
    {
      "cell_type": "code",
      "execution_count": 26,
      "metadata": {
        "id": "rHxBS5RnLMa8",
        "colab": {
          "base_uri": "https://localhost:8080/"
        },
        "outputId": "5e32ff42-c4f3-4ebc-b1c2-ca106dda312d"
      },
      "outputs": [
        {
          "output_type": "execute_result",
          "data": {
            "text/plain": [
              "[36.643314042887226, 14.912943224414976, 49.217160139508046]"
            ]
          },
          "metadata": {},
          "execution_count": 26
        }
      ],
      "source": [
        "gradients1 = batch_gradient(X_train, y_train, parameters, 'logistic')\n",
        "gradients1"
      ]
    },
    {
      "cell_type": "markdown",
      "metadata": {
        "id": "cQnlDboALMa8"
      },
      "source": [
        "## mini-batch\n",
        "인덱스로 미니 배치 나누기"
      ]
    },
    {
      "cell_type": "code",
      "execution_count": 28,
      "metadata": {
        "id": "LgnfT6eHLMa8"
      },
      "outputs": [],
      "source": [
        "def batch_idx(X_train, batch_size):\n",
        "    N = len(X_train)\n",
        "    nb = (N // batch_size)+1 #number of batch\n",
        "    idx = np.array([i for i in range(N)])\n",
        "    idx_list = [idx[i*batch_size:(i+1)*batch_size] for i in range(nb) if len(idx[i*batch_size:(i+1)*batch_size]) != 0]\n",
        "    return idx_list"
      ]
    },
    {
      "cell_type": "markdown",
      "metadata": {
        "id": "9S9fk1UTLMa8"
      },
      "source": [
        "batch_idx 함수에 대한 설명을 batch_size와 함께 간략하게 작성해주세요  \n",
        "### 설명: 1epoch에서 batch_size만큼의 데이터셋을 학습한다.batch_size가 증가하면 한번 학습시 소요되는 시간이 증가한다."
      ]
    },
    {
      "cell_type": "markdown",
      "metadata": {
        "id": "4pMuZbkQLMa8"
      },
      "source": [
        "## Update Parameters\n",
        "기울기를 갱신하는 코드를 작성해주세요  \n",
        "(loss와 마찬가지로 기울기를 갱신할 때 배치 사이즈를 고려해 평균으로 갱신해주세요)"
      ]
    },
    {
      "cell_type": "code",
      "execution_count": 29,
      "metadata": {
        "id": "loeL51rPLMa8"
      },
      "outputs": [],
      "source": [
        "def step(parameters, gradients, learning_rate, n): #n:현재 배치의 데이터 수\n",
        "    for i in range(len(parameters)):\n",
        "        gradients[i] *= learning_rate / n\n",
        "    \n",
        "    parameters -= gradients\n",
        "    return parameters"
      ]
    },
    {
      "cell_type": "code",
      "execution_count": 30,
      "metadata": {
        "id": "NLB2dUVTLMa8",
        "colab": {
          "base_uri": "https://localhost:8080/"
        },
        "outputId": "67f6216d-8891-4b9a-c989-eeb2e0e762e6"
      },
      "outputs": [
        {
          "output_type": "execute_result",
          "data": {
            "text/plain": [
              "array([0.15278726, 0.45936914, 0.86153799])"
            ]
          },
          "metadata": {},
          "execution_count": 30
        }
      ],
      "source": [
        "step(parameters, gradients1, 0.01, len(X_train))"
      ]
    },
    {
      "cell_type": "markdown",
      "metadata": {
        "id": "RX8RJFd_LMa9"
      },
      "source": [
        "## Gradient Descent\n",
        "위에서 작성한 함수들을 조합해서 경사하강법 함수를 완성해주세요\n",
        "\n",
        "- learning_rate: 학습률  \n",
        "- tolerance: Step이 너무 작아서 더 이상의 학습이 무의미할 때 학습을 멈추는 조건  \n",
        "- batch: 기울기를 1번 갱신할 때 사용하는 데이터셋  \n",
        "- epoch:  \n",
        "- num_epoch:\n",
        "<br>\n",
        "\n",
        "BGD: 1epoch에 모든 데이터셋에 대한 기울기를 구한다. \n",
        "SGD: 1epoch에 랜덤하게 선택된 하나의 데이터의 기울기를 구한다. \n",
        "MGD: 1epoch에 데이터 일부의 기울기를 구한다.\n",
        "<br>\n",
        "batch_size에 따른 경사하강법의 종류를 적어주세요  \n",
        "batch_size=1 -> SGD\n",
        "batch_size=k -> MGD  \n",
        "batch_size=whole -> BGD  "
      ]
    },
    {
      "cell_type": "code",
      "execution_count": 31,
      "metadata": {
        "id": "ZGbnVHbbLMa9"
      },
      "outputs": [],
      "source": [
        "def gradient_descent(X_train, y_train, learning_rate = 0.1, num_epoch = 1000, tolerance = 0.00001, model = 'logistic', batch_size = 16):\n",
        "    stopper = False\n",
        "    \n",
        "    N = len(X_train.iloc[0])\n",
        "    parameters = np.random.rand(N)\n",
        "    loss_function = minus_log_cross_entropy_i if model == 'logistic' else mse_i\n",
        "    loss = 999\n",
        "    batch_idx_list = batch_idx(X_train, batch_size)\n",
        "    \n",
        "    for epoch in range(num_epoch):\n",
        "        if stopper:\n",
        "            break\n",
        "        for idx in batch_idx_list:\n",
        "            X_batch = X_train.iloc[idx,]\n",
        "            y_batch = y_train.iloc[idx]\n",
        "            gradients = batch_gradient(X_batch, y_batch, parameters, model)\n",
        "            parameters = step(parameters, gradients, learning_rate, len(X_batch))\n",
        "            new_loss = batch_loss(X_batch, y_batch, parameters, loss_function, len(X_batch))\n",
        "            \n",
        "            #중단 조건\n",
        "            if abs(new_loss - loss) < tolerance:\n",
        "                stopper = True\n",
        "                break\n",
        "            loss = new_loss\n",
        "        \n",
        "        #100epoch마다 학습 상태 출력\n",
        "        if epoch%100 == 0: #출력이 길게 나오면 check point를 수정해도 됩니다.\n",
        "            print(f\"epoch: {epoch}  loss: {new_loss}  params: {parameters}  gradients: {gradients}\")\n",
        "    \n",
        "    return parameters"
      ]
    },
    {
      "cell_type": "markdown",
      "metadata": {
        "id": "3CTtc3eiLMa9"
      },
      "source": [
        "## Implement\n",
        "경사하강법 함수를 이용해 최적의 모수 찾아보세요. 학습을 진행할 때, Hyper Parameter를 바꿔가면서 학습시켜보세요."
      ]
    },
    {
      "cell_type": "markdown",
      "metadata": {
        "id": "KnUpYC7_LMa9"
      },
      "source": [
        "## Logistic Regression"
      ]
    },
    {
      "cell_type": "code",
      "execution_count": 32,
      "metadata": {
        "id": "-LS6o3aeLMa-",
        "colab": {
          "base_uri": "https://localhost:8080/"
        },
        "outputId": "a3691a34-cdd1-4153-9b30-06b5340a337c"
      },
      "outputs": [
        {
          "output_type": "stream",
          "name": "stdout",
          "text": [
            "epoch: 0  loss: 0.9990589443839517  params: [0.48848152 0.75445158 0.71204358]  gradients: [0.03054925411541671, 0.012401743542187782, 0.032913371484290736]\n",
            "epoch: 100  loss: 0.45380671202272566  params: [-0.81645233  0.87943025 -0.78016078]  gradients: [0.003931702842909482, -0.00590095175253369, 0.006785102240453509]\n",
            "epoch: 200  loss: 0.39216694425011384  params: [-1.03467136  1.40056936 -1.31605955]  gradients: [0.001319600553636178, -0.004469618569108964, 0.00439399975118525]\n",
            "epoch: 300  loss: 0.36164792600619844  params: [-1.14019397  1.78750655 -1.69367312]  gradients: [0.0008871955022964332, -0.0033652611554316337, 0.003266954058635258]\n",
            "epoch: 400  loss: 0.3437290801559545  params: [-1.21960197  2.0857768  -1.98226109]  gradients: [0.0007184427605107524, -0.00265567316338289, 0.002561086138104591]\n",
            "epoch: 500  loss: 0.3322114453132287  params: [-1.28552953  2.32541959 -2.21274579]  gradients: [0.0006067693401376859, -0.0021700835487449867, 0.0020816058699132545]\n",
            "epoch: 600  loss: 0.32434257171218933  params: [-1.34169765  2.52379249 -2.40260079]  gradients: [0.0005208062054680284, -0.001818322477148797, 0.0017363809764837674]\n",
            "epoch: 700  loss: 0.3187257666346317  params: [-1.39018121  2.69160644 -2.56254466]  gradients: [0.000451981668626063, -0.0015521413036338543, 0.0014765630843674752]\n",
            "epoch: 800  loss: 0.3145825908370026  params: [-1.4324542   2.83590259 -2.69958805]  gradients: [0.00039587934894895634, -0.0013438700116606343, 0.0012742588278163104]\n",
            "epoch: 900  loss: 0.31144760210864425  params: [-1.46962924  2.96155301 -2.81855919]  gradients: [0.00034950485144344043, -0.0011765989238885616, 0.0011124907544972859]\n"
          ]
        },
        {
          "output_type": "execute_result",
          "data": {
            "text/plain": [
              "array([-1.50225315,  3.07103041, -2.921943  ])"
            ]
          },
          "metadata": {},
          "execution_count": 32
        }
      ],
      "source": [
        "new_param_bgd = gradient_descent(X_train, y_train, batch_size = X_train.shape[0])\n",
        "new_param_bgd"
      ]
    },
    {
      "cell_type": "code",
      "execution_count": null,
      "metadata": {
        "id": "x0H5tnauLMa-",
        "colab": {
          "base_uri": "https://localhost:8080/"
        },
        "outputId": "1ea138f1-de0c-48b5-9a4a-f621093e8673"
      },
      "outputs": [
        {
          "output_type": "stream",
          "name": "stdout",
          "text": [
            "epoch: 0  loss: 0.28883422254747054  params: [-0.85336299  0.91144017 -1.04699395]  gradients: [0.025970678646630586, 0.014133268159621709, 0.018272729053761576]\n",
            "epoch: 100  loss: 0.07736679307289271  params: [-1.93032485  4.17501709 -4.06768893]  gradients: [0.0075385508445797965, 0.004102486580003637, 0.005304054580756351]\n",
            "epoch: 200  loss: 0.07736266552816656  params: [-1.9303681   4.1751431  -4.06780374]  gradients: [0.007538159522433041, 0.004102273622117086, 0.005303779250116837]\n",
            "epoch: 300  loss: 0.07736266518361799  params: [-1.9303681   4.17514311 -4.06780375]  gradients: [0.007538159489767206, 0.004102273604340306, 0.005303779227133458]\n",
            "epoch: 400  loss: 0.07736266518359017  params: [-1.9303681   4.17514311 -4.06780375]  gradients: [0.007538159489764571, 0.004102273604338872, 0.005303779227131603]\n",
            "epoch: 500  loss: 0.07736266518359017  params: [-1.9303681   4.17514311 -4.06780375]  gradients: [0.007538159489764571, 0.004102273604338872, 0.005303779227131603]\n",
            "epoch: 600  loss: 0.07736266518359017  params: [-1.9303681   4.17514311 -4.06780375]  gradients: [0.007538159489764571, 0.004102273604338872, 0.005303779227131603]\n"
          ]
        }
      ],
      "source": [
        "new_param_sgd = gradient_descent(X_train, y_train, batch_size = 1)\n",
        "new_param_sgd"
      ]
    },
    {
      "cell_type": "code",
      "execution_count": null,
      "metadata": {
        "id": "iGfXGoJaLMa-"
      },
      "outputs": [],
      "source": [
        "new_param_mgd = gradient_descent(X_train, y_train, batch_size = 128)\n",
        "new_param_mgd"
      ]
    },
    {
      "cell_type": "markdown",
      "metadata": {
        "id": "k0oCaZ0tLMa-"
      },
      "source": [
        "### Predict Label"
      ]
    },
    {
      "cell_type": "code",
      "execution_count": null,
      "metadata": {
        "id": "syJE3oiNLMa-"
      },
      "outputs": [],
      "source": [
        "y_predict = []\n",
        "for i in range(len(y_test)):\n",
        "    p = logistic(X_test.iloc[i,:], new_param_bgd)\n",
        "    if p> 0.5 :\n",
        "        y_predict.append(1)\n",
        "    else :\n",
        "        y_predict.append(0)\n",
        "y_predict_random = []\n",
        "for i in range(len(y_test)):\n",
        "    p = logistic(X_test.iloc[i,:], random_parameters)\n",
        "    if p> 0.5 :\n",
        "        y_predict_random.append(1)\n",
        "    else :\n",
        "        y_predict_random.append(0)"
      ]
    },
    {
      "cell_type": "markdown",
      "metadata": {
        "id": "pZKpFItfLMa-"
      },
      "source": [
        "### Confusion Matrix"
      ]
    },
    {
      "cell_type": "code",
      "execution_count": null,
      "metadata": {
        "id": "W4E1PgX5LMa-"
      },
      "outputs": [],
      "source": [
        "from sklearn.metrics import *"
      ]
    },
    {
      "cell_type": "code",
      "execution_count": null,
      "metadata": {
        "id": "-veTwxu4LMa-"
      },
      "outputs": [],
      "source": [
        "tn, fp, fn, tp = confusion_matrix(y_test, y_predict).ravel()\n",
        "confusion_matrix(y_test, y_predict)"
      ]
    },
    {
      "cell_type": "code",
      "execution_count": null,
      "metadata": {
        "id": "h4_dW9rDLMa_"
      },
      "outputs": [],
      "source": [
        "accuracy = (tp+tn) / (tp+fn+fp+tn)\n",
        "print(\"accuracy:\",accuracy)"
      ]
    },
    {
      "cell_type": "markdown",
      "metadata": {
        "id": "XIgqa85aLMa_"
      },
      "source": [
        "## Linear regression\n",
        "### $y = 0.5 + 2.7x$"
      ]
    },
    {
      "cell_type": "markdown",
      "metadata": {
        "id": "qYeIg9QNLMa_"
      },
      "source": [
        "### Data"
      ]
    },
    {
      "cell_type": "code",
      "execution_count": null,
      "metadata": {
        "id": "nv8-yhszLMa_"
      },
      "outputs": [],
      "source": [
        "raw_X = np.random.rand(150)\n",
        "y = 2.7*raw_X + 0.5 + np.random.randn(150)"
      ]
    },
    {
      "cell_type": "code",
      "execution_count": null,
      "metadata": {
        "id": "07XtxLGWLMa_"
      },
      "outputs": [],
      "source": [
        "tmp = np.array([1 for _ in range(150)])\n",
        "X = np.vstack((tmp, raw_X)).T\n",
        "X = pd.DataFrame(X)\n",
        "y = pd.Series(y)"
      ]
    },
    {
      "cell_type": "markdown",
      "metadata": {
        "id": "6oENC02TLMa_"
      },
      "source": [
        "### Estimation"
      ]
    },
    {
      "cell_type": "code",
      "execution_count": null,
      "metadata": {
        "id": "fu578YrKLMa_"
      },
      "outputs": [],
      "source": [
        "#정규방정식\n",
        "theta = np.linalg.inv(np.dot(X.T,X)).dot(X.T).dot(y)\n",
        "theta"
      ]
    },
    {
      "cell_type": "code",
      "execution_count": null,
      "metadata": {
        "id": "M74iqj4WLMa_"
      },
      "outputs": [],
      "source": [
        "#경사하강법\n",
        "new_param = gradient_descent(X, y, model = 'linear')\n",
        "new_param"
      ]
    },
    {
      "cell_type": "code",
      "execution_count": null,
      "metadata": {
        "id": "Ii3zBOwSLMa_"
      },
      "outputs": [],
      "source": [
        "y_hat_NE = theta.dot(X.T)\n",
        "y_hat_GD = new_param.dot(X.T)"
      ]
    },
    {
      "cell_type": "markdown",
      "metadata": {
        "id": "oCVynFSPLMbA"
      },
      "source": [
        "### Visualization\n",
        "시각화를 통해 정규방정식과 경사하강법을 통한 선형회귀를 비교해보세요  \n",
        "(밑의 코드를 실행만 시키면 됩니다. 추가 코드 x)"
      ]
    },
    {
      "cell_type": "code",
      "execution_count": null,
      "metadata": {
        "id": "UoEACrbYLMbA"
      },
      "outputs": [],
      "source": [
        "import matplotlib.pyplot as plt\n",
        "plt.plot(X.iloc[:,1], y, '.k') #산점도\n",
        "plt.plot(X.iloc[:,1], y_hat_NE, '-b', label = 'NE') #정규방정식\n",
        "plt.plot(X.iloc[:,1], y_hat_GD, '-r', label = 'GD') #경사하강법\n",
        "plt.legend()\n",
        "plt.show()"
      ]
    },
    {
      "cell_type": "code",
      "execution_count": null,
      "metadata": {
        "id": "ijgIcAdGLMbA"
      },
      "outputs": [],
      "source": [
        ""
      ]
    }
  ],
  "metadata": {
    "colab": {
      "name": "wk2_optimization_assignment.ipynb",
      "provenance": [],
      "collapsed_sections": [
        "QINz-EAKLMa4",
        "9S9fk1UTLMa8"
      ]
    },
    "kernelspec": {
      "display_name": "Python 3",
      "language": "python",
      "name": "python3"
    },
    "language_info": {
      "codemirror_mode": {
        "name": "ipython",
        "version": 3
      },
      "file_extension": ".py",
      "mimetype": "text/x-python",
      "name": "python",
      "nbconvert_exporter": "python",
      "pygments_lexer": "ipython3",
      "version": "3.8.8"
    }
  },
  "nbformat": 4,
  "nbformat_minor": 0
}