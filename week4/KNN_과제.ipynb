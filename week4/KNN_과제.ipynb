{
  "cells": [
    {
      "cell_type": "markdown",
      "metadata": {
        "id": "_PTZ7GaPe4PF"
      },
      "source": [
        "# 17기 KNN 정규세션 과제"
      ]
    },
    {
      "cell_type": "markdown",
      "metadata": {
        "id": "3OFNeO0Ie4PH"
      },
      "source": [
        "## KNN 구현해보기\n",
        "### 1. Preprocssing / EDA\n",
        "지금까지 배운 내용을 토대로 해당 데이터에 대해 자유롭게 전처리와 EDA를 진행해주세요.\n",
        "### 2. KNN 구현 & 파라미터 튜닝\n",
        "수업 내용 및 실습 자료를 참고하여 KNN을 구현하고 파라미터 튜닝을 하며 결과를 비교해주세요.\n",
        "### 3. Evaluation\n",
        "결과에 대한 평가를 진행하고, 나름의 해석을 달아주세요."
      ]
    },
    {
      "cell_type": "markdown",
      "metadata": {
        "id": "k_IkS8Ybe4PI"
      },
      "source": [
        "**데이터:** [blackfriday | Kaggle](https://www.kaggle.com/llopesolivei/blackfriday)"
      ]
    },
    {
      "cell_type": "markdown",
      "metadata": {
        "id": "ZvUdeo2he4PI"
      },
      "source": [
        "---"
      ]
    },
    {
      "cell_type": "markdown",
      "metadata": {
        "id": "lTlQgiSie4PI"
      },
      "source": [
        "## 0. 데이터 불러오기"
      ]
    },
    {
      "cell_type": "code",
      "source": [
        "from sklearn.preprocessing import OneHotEncoder\n",
        "from sklearn.preprocessing import StandardScaler\n",
        "from sklearn.model_selection import train_test_split, cross_val_score\n",
        "from sklearn.neighbors import KNeighborsRegressor, DistanceMetric, NearestNeighbors\n",
        "from sklearn.metrics import accuracy_score"
      ],
      "metadata": {
        "id": "C2olUclho1Mk"
      },
      "execution_count": 20,
      "outputs": []
    },
    {
      "cell_type": "code",
      "execution_count": 3,
      "metadata": {
        "id": "eNTRK8Ete4PJ",
        "outputId": "a426ede8-41f9-4516-de6c-2d7a9c2b4373",
        "colab": {
          "base_uri": "https://localhost:8080/",
          "height": 357
        }
      },
      "outputs": [
        {
          "output_type": "execute_result",
          "data": {
            "text/plain": [
              "   User_ID Product_ID Gender   Age  Occupation City_Category  \\\n",
              "0  1001088  P00046042      F  0-17          10             A   \n",
              "1  1004493  P00347742      F  0-17          10             A   \n",
              "2  1005302  P00048942      F  0-17          10             A   \n",
              "3  1001348  P00145242      F  0-17          10             A   \n",
              "4  1001348  P00106742      F  0-17          10             A   \n",
              "\n",
              "  Stay_In_Current_City_Years  Marital_Status  Product_Category_1  \\\n",
              "0                          3               0                   5   \n",
              "1                          1               0                   7   \n",
              "2                          1               0                   1   \n",
              "3                          3               0                   2   \n",
              "4                          3               0                   3   \n",
              "\n",
              "   Product_Category_2  Product_Category_3  Purchase  \n",
              "0                17.0                 NaN      2010  \n",
              "1                 NaN                 NaN      4483  \n",
              "2                 4.0                 NaN      7696  \n",
              "3                 4.0                 NaN     16429  \n",
              "4                 5.0                 NaN      5780  "
            ],
            "text/html": [
              "\n",
              "  <div id=\"df-66b6567b-a421-4174-ae19-f328f518593f\">\n",
              "    <div class=\"colab-df-container\">\n",
              "      <div>\n",
              "<style scoped>\n",
              "    .dataframe tbody tr th:only-of-type {\n",
              "        vertical-align: middle;\n",
              "    }\n",
              "\n",
              "    .dataframe tbody tr th {\n",
              "        vertical-align: top;\n",
              "    }\n",
              "\n",
              "    .dataframe thead th {\n",
              "        text-align: right;\n",
              "    }\n",
              "</style>\n",
              "<table border=\"1\" class=\"dataframe\">\n",
              "  <thead>\n",
              "    <tr style=\"text-align: right;\">\n",
              "      <th></th>\n",
              "      <th>User_ID</th>\n",
              "      <th>Product_ID</th>\n",
              "      <th>Gender</th>\n",
              "      <th>Age</th>\n",
              "      <th>Occupation</th>\n",
              "      <th>City_Category</th>\n",
              "      <th>Stay_In_Current_City_Years</th>\n",
              "      <th>Marital_Status</th>\n",
              "      <th>Product_Category_1</th>\n",
              "      <th>Product_Category_2</th>\n",
              "      <th>Product_Category_3</th>\n",
              "      <th>Purchase</th>\n",
              "    </tr>\n",
              "  </thead>\n",
              "  <tbody>\n",
              "    <tr>\n",
              "      <th>0</th>\n",
              "      <td>1001088</td>\n",
              "      <td>P00046042</td>\n",
              "      <td>F</td>\n",
              "      <td>0-17</td>\n",
              "      <td>10</td>\n",
              "      <td>A</td>\n",
              "      <td>3</td>\n",
              "      <td>0</td>\n",
              "      <td>5</td>\n",
              "      <td>17.0</td>\n",
              "      <td>NaN</td>\n",
              "      <td>2010</td>\n",
              "    </tr>\n",
              "    <tr>\n",
              "      <th>1</th>\n",
              "      <td>1004493</td>\n",
              "      <td>P00347742</td>\n",
              "      <td>F</td>\n",
              "      <td>0-17</td>\n",
              "      <td>10</td>\n",
              "      <td>A</td>\n",
              "      <td>1</td>\n",
              "      <td>0</td>\n",
              "      <td>7</td>\n",
              "      <td>NaN</td>\n",
              "      <td>NaN</td>\n",
              "      <td>4483</td>\n",
              "    </tr>\n",
              "    <tr>\n",
              "      <th>2</th>\n",
              "      <td>1005302</td>\n",
              "      <td>P00048942</td>\n",
              "      <td>F</td>\n",
              "      <td>0-17</td>\n",
              "      <td>10</td>\n",
              "      <td>A</td>\n",
              "      <td>1</td>\n",
              "      <td>0</td>\n",
              "      <td>1</td>\n",
              "      <td>4.0</td>\n",
              "      <td>NaN</td>\n",
              "      <td>7696</td>\n",
              "    </tr>\n",
              "    <tr>\n",
              "      <th>3</th>\n",
              "      <td>1001348</td>\n",
              "      <td>P00145242</td>\n",
              "      <td>F</td>\n",
              "      <td>0-17</td>\n",
              "      <td>10</td>\n",
              "      <td>A</td>\n",
              "      <td>3</td>\n",
              "      <td>0</td>\n",
              "      <td>2</td>\n",
              "      <td>4.0</td>\n",
              "      <td>NaN</td>\n",
              "      <td>16429</td>\n",
              "    </tr>\n",
              "    <tr>\n",
              "      <th>4</th>\n",
              "      <td>1001348</td>\n",
              "      <td>P00106742</td>\n",
              "      <td>F</td>\n",
              "      <td>0-17</td>\n",
              "      <td>10</td>\n",
              "      <td>A</td>\n",
              "      <td>3</td>\n",
              "      <td>0</td>\n",
              "      <td>3</td>\n",
              "      <td>5.0</td>\n",
              "      <td>NaN</td>\n",
              "      <td>5780</td>\n",
              "    </tr>\n",
              "  </tbody>\n",
              "</table>\n",
              "</div>\n",
              "      <button class=\"colab-df-convert\" onclick=\"convertToInteractive('df-66b6567b-a421-4174-ae19-f328f518593f')\"\n",
              "              title=\"Convert this dataframe to an interactive table.\"\n",
              "              style=\"display:none;\">\n",
              "        \n",
              "  <svg xmlns=\"http://www.w3.org/2000/svg\" height=\"24px\"viewBox=\"0 0 24 24\"\n",
              "       width=\"24px\">\n",
              "    <path d=\"M0 0h24v24H0V0z\" fill=\"none\"/>\n",
              "    <path d=\"M18.56 5.44l.94 2.06.94-2.06 2.06-.94-2.06-.94-.94-2.06-.94 2.06-2.06.94zm-11 1L8.5 8.5l.94-2.06 2.06-.94-2.06-.94L8.5 2.5l-.94 2.06-2.06.94zm10 10l.94 2.06.94-2.06 2.06-.94-2.06-.94-.94-2.06-.94 2.06-2.06.94z\"/><path d=\"M17.41 7.96l-1.37-1.37c-.4-.4-.92-.59-1.43-.59-.52 0-1.04.2-1.43.59L10.3 9.45l-7.72 7.72c-.78.78-.78 2.05 0 2.83L4 21.41c.39.39.9.59 1.41.59.51 0 1.02-.2 1.41-.59l7.78-7.78 2.81-2.81c.8-.78.8-2.07 0-2.86zM5.41 20L4 18.59l7.72-7.72 1.47 1.35L5.41 20z\"/>\n",
              "  </svg>\n",
              "      </button>\n",
              "      \n",
              "  <style>\n",
              "    .colab-df-container {\n",
              "      display:flex;\n",
              "      flex-wrap:wrap;\n",
              "      gap: 12px;\n",
              "    }\n",
              "\n",
              "    .colab-df-convert {\n",
              "      background-color: #E8F0FE;\n",
              "      border: none;\n",
              "      border-radius: 50%;\n",
              "      cursor: pointer;\n",
              "      display: none;\n",
              "      fill: #1967D2;\n",
              "      height: 32px;\n",
              "      padding: 0 0 0 0;\n",
              "      width: 32px;\n",
              "    }\n",
              "\n",
              "    .colab-df-convert:hover {\n",
              "      background-color: #E2EBFA;\n",
              "      box-shadow: 0px 1px 2px rgba(60, 64, 67, 0.3), 0px 1px 3px 1px rgba(60, 64, 67, 0.15);\n",
              "      fill: #174EA6;\n",
              "    }\n",
              "\n",
              "    [theme=dark] .colab-df-convert {\n",
              "      background-color: #3B4455;\n",
              "      fill: #D2E3FC;\n",
              "    }\n",
              "\n",
              "    [theme=dark] .colab-df-convert:hover {\n",
              "      background-color: #434B5C;\n",
              "      box-shadow: 0px 1px 3px 1px rgba(0, 0, 0, 0.15);\n",
              "      filter: drop-shadow(0px 1px 2px rgba(0, 0, 0, 0.3));\n",
              "      fill: #FFFFFF;\n",
              "    }\n",
              "  </style>\n",
              "\n",
              "      <script>\n",
              "        const buttonEl =\n",
              "          document.querySelector('#df-66b6567b-a421-4174-ae19-f328f518593f button.colab-df-convert');\n",
              "        buttonEl.style.display =\n",
              "          google.colab.kernel.accessAllowed ? 'block' : 'none';\n",
              "\n",
              "        async function convertToInteractive(key) {\n",
              "          const element = document.querySelector('#df-66b6567b-a421-4174-ae19-f328f518593f');\n",
              "          const dataTable =\n",
              "            await google.colab.kernel.invokeFunction('convertToInteractive',\n",
              "                                                     [key], {});\n",
              "          if (!dataTable) return;\n",
              "\n",
              "          const docLinkHtml = 'Like what you see? Visit the ' +\n",
              "            '<a target=\"_blank\" href=https://colab.research.google.com/notebooks/data_table.ipynb>data table notebook</a>'\n",
              "            + ' to learn more about interactive tables.';\n",
              "          element.innerHTML = '';\n",
              "          dataTable['output_type'] = 'display_data';\n",
              "          await google.colab.output.renderOutput(dataTable, element);\n",
              "          const docLink = document.createElement('div');\n",
              "          docLink.innerHTML = docLinkHtml;\n",
              "          element.appendChild(docLink);\n",
              "        }\n",
              "      </script>\n",
              "    </div>\n",
              "  </div>\n",
              "  "
            ]
          },
          "metadata": {},
          "execution_count": 3
        }
      ],
      "source": [
        "import pandas as pd\n",
        "df = pd.read_csv(\"blackfriday.csv\", index_col = 0)\n",
        "df.head()"
      ]
    },
    {
      "cell_type": "markdown",
      "source": [
        "##1. Preprocssing / EDA"
      ],
      "metadata": {
        "id": "xR3osE3DKy7r"
      }
    },
    {
      "cell_type": "code",
      "source": [
        "df.shape"
      ],
      "metadata": {
        "colab": {
          "base_uri": "https://localhost:8080/"
        },
        "id": "bWDYRDxEKv2E",
        "outputId": "8f23f9dc-b88d-40b4-c659-c339808b9f3c"
      },
      "execution_count": 4,
      "outputs": [
        {
          "output_type": "execute_result",
          "data": {
            "text/plain": [
              "(4998, 12)"
            ]
          },
          "metadata": {},
          "execution_count": 4
        }
      ]
    },
    {
      "cell_type": "code",
      "source": [
        "df.info()"
      ],
      "metadata": {
        "colab": {
          "base_uri": "https://localhost:8080/"
        },
        "id": "nbp-kDRlK7mu",
        "outputId": "7ce99312-ef04-442b-f321-4c0eef2005ce"
      },
      "execution_count": 5,
      "outputs": [
        {
          "output_type": "stream",
          "name": "stdout",
          "text": [
            "<class 'pandas.core.frame.DataFrame'>\n",
            "Int64Index: 4998 entries, 0 to 4997\n",
            "Data columns (total 12 columns):\n",
            " #   Column                      Non-Null Count  Dtype  \n",
            "---  ------                      --------------  -----  \n",
            " 0   User_ID                     4998 non-null   int64  \n",
            " 1   Product_ID                  4998 non-null   object \n",
            " 2   Gender                      4998 non-null   object \n",
            " 3   Age                         4998 non-null   object \n",
            " 4   Occupation                  4998 non-null   int64  \n",
            " 5   City_Category               4998 non-null   object \n",
            " 6   Stay_In_Current_City_Years  4998 non-null   object \n",
            " 7   Marital_Status              4998 non-null   int64  \n",
            " 8   Product_Category_1          4998 non-null   int64  \n",
            " 9   Product_Category_2          3465 non-null   float64\n",
            " 10  Product_Category_3          1544 non-null   float64\n",
            " 11  Purchase                    4998 non-null   int64  \n",
            "dtypes: float64(2), int64(5), object(5)\n",
            "memory usage: 507.6+ KB\n"
          ]
        }
      ]
    },
    {
      "cell_type": "code",
      "source": [
        "df.isnull().sum()"
      ],
      "metadata": {
        "colab": {
          "base_uri": "https://localhost:8080/"
        },
        "id": "-1A7ActWK7tD",
        "outputId": "6650c5ef-6cb5-40dd-e502-c2891fc6e226"
      },
      "execution_count": 6,
      "outputs": [
        {
          "output_type": "execute_result",
          "data": {
            "text/plain": [
              "User_ID                          0\n",
              "Product_ID                       0\n",
              "Gender                           0\n",
              "Age                              0\n",
              "Occupation                       0\n",
              "City_Category                    0\n",
              "Stay_In_Current_City_Years       0\n",
              "Marital_Status                   0\n",
              "Product_Category_1               0\n",
              "Product_Category_2            1533\n",
              "Product_Category_3            3454\n",
              "Purchase                         0\n",
              "dtype: int64"
            ]
          },
          "metadata": {},
          "execution_count": 6
        }
      ]
    },
    {
      "cell_type": "code",
      "source": [
        "df1 = df.drop(['Product_Category_2','Product_Category_3', 'User_ID'], axis = 1)"
      ],
      "metadata": {
        "id": "yajuzKIEMpG8"
      },
      "execution_count": 7,
      "outputs": []
    },
    {
      "cell_type": "code",
      "source": [
        "categorical = ['Gender', 'Age', 'Occupation', 'City_Category', \n",
        "                 'Stay_In_Current_City_Years', 'Product_Category_1']\n",
        "\n",
        "encoder = OneHotEncoder().fit(df1[categorical])    \n",
        "encoder.get_feature_names(categorical)   "
      ],
      "metadata": {
        "colab": {
          "base_uri": "https://localhost:8080/"
        },
        "id": "pqP43KJBoaVP",
        "outputId": "f1cc18e3-8691-4b70-94f0-61e9324a1850"
      },
      "execution_count": 11,
      "outputs": [
        {
          "output_type": "stream",
          "name": "stderr",
          "text": [
            "/usr/local/lib/python3.7/dist-packages/sklearn/utils/deprecation.py:87: FutureWarning: Function get_feature_names is deprecated; get_feature_names is deprecated in 1.0 and will be removed in 1.2. Please use get_feature_names_out instead.\n",
            "  warnings.warn(msg, category=FutureWarning)\n"
          ]
        },
        {
          "output_type": "execute_result",
          "data": {
            "text/plain": [
              "array(['Gender_F', 'Gender_M', 'Age_0-17', 'Age_18-25', 'Age_26-35',\n",
              "       'Age_36-45', 'Age_46-50', 'Age_51-55', 'Age_55+', 'Occupation_0',\n",
              "       'Occupation_1', 'Occupation_2', 'Occupation_3', 'Occupation_4',\n",
              "       'Occupation_5', 'Occupation_6', 'Occupation_7', 'Occupation_8',\n",
              "       'Occupation_9', 'Occupation_10', 'Occupation_11', 'Occupation_12',\n",
              "       'Occupation_13', 'Occupation_14', 'Occupation_15', 'Occupation_16',\n",
              "       'Occupation_17', 'Occupation_18', 'Occupation_19', 'Occupation_20',\n",
              "       'City_Category_A', 'City_Category_B', 'City_Category_C',\n",
              "       'Stay_In_Current_City_Years_0', 'Stay_In_Current_City_Years_1',\n",
              "       'Stay_In_Current_City_Years_2', 'Stay_In_Current_City_Years_3',\n",
              "       'Stay_In_Current_City_Years_4+', 'Product_Category_1_1',\n",
              "       'Product_Category_1_2', 'Product_Category_1_3',\n",
              "       'Product_Category_1_4', 'Product_Category_1_5',\n",
              "       'Product_Category_1_6', 'Product_Category_1_7',\n",
              "       'Product_Category_1_8', 'Product_Category_1_9',\n",
              "       'Product_Category_1_10', 'Product_Category_1_11',\n",
              "       'Product_Category_1_12', 'Product_Category_1_13',\n",
              "       'Product_Category_1_14', 'Product_Category_1_15',\n",
              "       'Product_Category_1_16', 'Product_Category_1_17',\n",
              "       'Product_Category_1_18', 'Product_Category_1_19',\n",
              "       'Product_Category_1_20'], dtype=object)"
            ]
          },
          "metadata": {},
          "execution_count": 11
        }
      ]
    },
    {
      "cell_type": "code",
      "source": [
        "endcoded_data = pd.DataFrame(encoder.transform(df1[categorical]).toarray(),\n",
        "                               index = df1.index,\n",
        "                               columns = encoder.get_feature_names(categorical))  "
      ],
      "metadata": {
        "colab": {
          "base_uri": "https://localhost:8080/"
        },
        "id": "DlNAvGHgpchr",
        "outputId": "af8272df-974a-4e19-d9e7-2070e988df2d"
      },
      "execution_count": 12,
      "outputs": [
        {
          "output_type": "stream",
          "name": "stderr",
          "text": [
            "/usr/local/lib/python3.7/dist-packages/sklearn/utils/deprecation.py:87: FutureWarning: Function get_feature_names is deprecated; get_feature_names is deprecated in 1.0 and will be removed in 1.2. Please use get_feature_names_out instead.\n",
            "  warnings.warn(msg, category=FutureWarning)\n"
          ]
        }
      ]
    },
    {
      "cell_type": "code",
      "source": [
        "df2 = pd.concat([df1, endcoded_data], sort = False, axis = 1)"
      ],
      "metadata": {
        "id": "5m97GKs3p29P"
      },
      "execution_count": 13,
      "outputs": []
    },
    {
      "cell_type": "code",
      "source": [
        "df2 = df2.drop(['Product_ID', 'Gender', 'Age', 'Occupation', 'City_Category',\n",
        "                  'Stay_In_Current_City_Years', 'Product_Category_1'], axis = 1)\n"
      ],
      "metadata": {
        "id": "AiFLMpFzp7KW"
      },
      "execution_count": 16,
      "outputs": []
    },
    {
      "cell_type": "code",
      "source": [
        "X = df2.drop(['Purchase'], axis = 1)\n",
        "y = df2.Purchase"
      ],
      "metadata": {
        "id": "SGeLVhVGqUuo"
      },
      "execution_count": 18,
      "outputs": []
    },
    {
      "cell_type": "code",
      "source": [
        "X_train, X_test, y_train, y_test = train_test_split(X, y, random_state = 0)"
      ],
      "metadata": {
        "id": "z1LUuU3Nqcch"
      },
      "execution_count": 21,
      "outputs": []
    },
    {
      "cell_type": "markdown",
      "source": [
        "##2. KNN 구현 & 파라미터 튜닝"
      ],
      "metadata": {
        "id": "TxC5CtJoK27O"
      }
    },
    {
      "cell_type": "code",
      "source": [
        "import matplotlib.pyplot as plt\n"
      ],
      "metadata": {
        "id": "JcnYrNJmK8OK"
      },
      "execution_count": 26,
      "outputs": []
    },
    {
      "cell_type": "code",
      "source": [
        "k_param=range(1,30)\n",
        "train_acc_list=[]\n",
        "test_acc_list=[]\n",
        "\n",
        "for k in k_param:\n",
        "  knn=KNeighborsRegressor(n_neighbors=k)\n",
        "  knn.fit(X_train,y_train)\n",
        "  train_acc_list.append(knn.score(X_train,y_train))\n",
        "  test_acc_list.append(knn.score(X_test,y_test))"
      ],
      "metadata": {
        "id": "zbEr-Q1kK8Qn"
      },
      "execution_count": 24,
      "outputs": []
    },
    {
      "cell_type": "code",
      "source": [
        "plt.plot(k_param, train_acc_list, label = \"Train Accuracy\")\n",
        "plt.plot(k_param, test_acc_list, label = \"Test Accuracy\")\n",
        "plt.xlabel(\"K\")\n",
        "plt.ylabel(\"Regression Score\")\n",
        "plt.grid()\n",
        "plt.legend()\n",
        "plt.show()"
      ],
      "metadata": {
        "id": "hRexgifoK8UI",
        "colab": {
          "base_uri": "https://localhost:8080/",
          "height": 279
        },
        "outputId": "0e84d3bc-784a-487d-eaee-40b1a0e9a65b"
      },
      "execution_count": 28,
      "outputs": [
        {
          "output_type": "display_data",
          "data": {
            "text/plain": [
              "<Figure size 432x288 with 1 Axes>"
            ],
            "image/png": "[encoded data removed]"
          },
          "metadata": {
            "needs_background": "light"
          }
        }
      ]
    },
    {
      "cell_type": "code",
      "source": [
        ""
      ],
      "metadata": {
        "id": "f3odoWzCyQOY"
      },
      "execution_count": null,
      "outputs": []
    },
    {
      "cell_type": "code",
      "source": [
        ""
      ],
      "metadata": {
        "id": "Xz8XKlFKyQWP"
      },
      "execution_count": null,
      "outputs": []
    }
  ],
  "metadata": {
    "kernelspec": {
      "display_name": "Python 3",
      "language": "python",
      "name": "python3"
    },
    "language_info": {
      "codemirror_mode": {
        "name": "ipython",
        "version": 3
      },
      "file_extension": ".py",
      "mimetype": "text/x-python",
      "name": "python",
      "nbconvert_exporter": "python",
      "pygments_lexer": "ipython3",
      "version": "3.7.6"
    },
    "colab": {
      "name": "KNN 과제.ipynb",
      "provenance": [],
      "collapsed_sections": []
    }
  },
  "nbformat": 4,
  "nbformat_minor": 0
}